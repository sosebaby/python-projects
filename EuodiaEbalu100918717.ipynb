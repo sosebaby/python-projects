{
 "cells": [
  {
   "cell_type": "code",
   "execution_count": 2,
   "metadata": {},
   "outputs": [],
   "source": [
    "# complete the following two variables with your  fullname and student id and run the cell\n",
    "name = \"Euodia Ebalu\"\n",
    "student_id = \"100918717\" #please change this to have your student_id"
   ]
  },
  {
   "cell_type": "code",
   "execution_count": 3,
   "metadata": {},
   "outputs": [],
   "source": [
    "# run the following cell\n",
    "\n",
    "nr_sets = 4\n",
    "student_id_seq =  [int(_) for _ in student_id]\n",
    "magic_nr = sum (int(_) for _ in student_id) % nr_sets"
   ]
  },
  {
   "cell_type": "markdown",
   "metadata": {},
   "source": [
    "### Instructions !!!!!\n",
    "#### You are <b>NOT </b> allowed to use built-in methods such as <b> sum, min, max, list, set </b> "
   ]
  },
  {
   "cell_type": "markdown",
   "metadata": {},
   "source": [
    "#### You are <b>NOT </b> allowed to use built-in methods such as <b> sum, min, max, list, set </b> "
   ]
  },
  {
   "cell_type": "markdown",
   "metadata": {},
   "source": [
    "## --------------------------------------------------------------"
   ]
  },
  {
   "cell_type": "markdown",
   "metadata": {},
   "source": [
    "#### Question #1\n",
    "#####  Write a method to identify the average of an integer-sequence "
   ]
  },
  {
   "cell_type": "code",
   "execution_count": 6,
   "metadata": {},
   "outputs": [
    {
     "name": "stdout",
     "output_type": "stream",
     "text": [
      "316.2\n"
     ]
    }
   ],
   "source": [
    "\n",
    "def myAverage(student_id_seq):\n",
    "    if not student_id_seq:\n",
    "        return 0  \n",
    "    total = 0  \n",
    "    count = 0 \n",
    "    for num in student_id_seq:\n",
    "        total += num  \n",
    "        count += 1    \n",
    "    average = total / count\n",
    "    return average\n",
    "student_id_seq = [123, 456, 789, 101, 112]\n",
    "print(myAverage(student_id_seq))\n"
   ]
  },
  {
   "cell_type": "markdown",
   "metadata": {},
   "source": [
    "#### Question #2\n",
    "##### Write a method to calculate the total spatial distance (absolute)"
   ]
  },
  {
   "cell_type": "code",
   "execution_count": 5,
   "metadata": {},
   "outputs": [
    {
     "name": "stdout",
     "output_type": "stream",
     "text": [
      "1607\n"
     ]
    }
   ],
   "source": [
    "student_id_points = [(x,(y+7)% nr_sets) for x, y in zip(student_id_seq, student_id_seq)]\n",
    "\n",
    "# Write a method to calculate the total spatial distance (absolute) to students_id_points from a given anchor point (x_,y_)\n",
    "def myDistance(student_id_points, anchor_point):\n",
    "    total_distance = 0\n",
    "\n",
    "    for point in student_id_points:\n",
    "        x, y = point[0], point[1]  \n",
    "        anchor_x, anchor_y = anchor_point[0], anchor_point[1]  \n",
    "        \n",
    "        distance = abs(x - anchor_x) + abs(y - anchor_y)\n",
    "        \n",
    "        total_distance += distance\n",
    "\n",
    "    return total_distance\n",
    "\n",
    "student_id_seq = [123, 456, 789, 101, 112]\n",
    "nr_sets = 10 \n",
    "student_id_points = [(x, (y + 7) % nr_sets) for x, y in zip(student_id_seq, student_id_seq)]\n",
    "print(myDistance(student_id_points, (0, 0)))"
   ]
  },
  {
   "cell_type": "markdown",
   "metadata": {},
   "source": [
    "#### Question #3"
   ]
  },
  {
   "cell_type": "markdown",
   "metadata": {},
   "source": [
    "##### Develop an expert system to solve complex task described in the attached file.\n",
    "##### Warning !!! The task assigned to you is linked to your student number.\n",
    "##### Please run the following cell to determine the knowledgebase assigned to you"
   ]
  },
  {
   "cell_type": "code",
   "execution_count": 7,
   "metadata": {},
   "outputs": [],
   "source": [
    "# please run this cell\n",
    "ROOT_LIST = ['age','color','gpa', 'sleep_hours', 'music'] \n",
    "COND_1_LIST = ['age < 20', 'red', 'gpa < 3' , 'sleep_hours < 4', 'pop' ]\n",
    "COND_2_LIST = ['20 <= age <= 30', 'green', '3<= gpa <=4', '4<= sleep_hours <=8','rock']\n",
    "COND_3_LIST = ['30 < age', 'blue', '4 < gpa' ,' 8< sleep_hours','jazz']\n",
    "B_LIST = ['gender','phone','pet', 'vehicle','hobby']\n",
    "COND_X_LIST = ['female', 'apple', 'cat','bus','games']\n",
    "COND_Y_LIST = ['male', 'android','dog', 'car', 'movies']\n",
    "\n",
    "\n",
    "TEST_HARNESS_COND_1_LIST = [20, 'green', 3.5, 10,'jazz'] \n",
    "TEST_HARNESS_COND_2_LIST = ['male', 'apple', 'cat','bus', 'games']\n",
    "\n",
    "\n",
    "\n"
   ]
  },
  {
   "cell_type": "code",
   "execution_count": 8,
   "metadata": {},
   "outputs": [
    {
     "name": "stdout",
     "output_type": "stream",
     "text": [
      "The following knowledge base is assigned to Euodia Ebalu\n",
      "Please use the attached file to understand the architecture used in this application \n",
      " A: gpa\n",
      " COND_1: gpa < 3\n",
      " COND_2: 3<= gpa <=4\n",
      " COND_3: 4 < gpa\n",
      " B: pet\n",
      " COND_X: cat\n",
      " COND_Y: dog\n"
     ]
    }
   ],
   "source": [
    "A = ROOT_LIST[magic_nr]\n",
    "COND_1 = COND_1_LIST[magic_nr]\n",
    "COND_2 = COND_2_LIST[magic_nr]\n",
    "COND_3 = COND_3_LIST[magic_nr]\n",
    "B = B_LIST[magic_nr]\n",
    "COND_X = COND_X_LIST[magic_nr]\n",
    "COND_Y = COND_Y_LIST[magic_nr]\n",
    "\n",
    "print(f\"The following knowledge base is assigned to {name}\")\n",
    "print(f\"Please use the attached file to understand the architecture used in this application \")\n",
    "print(f\" A: {A}\")\n",
    "print(f\" COND_1: {COND_1}\")\n",
    "print(f\" COND_2: {COND_2}\")\n",
    "print(f\" COND_3: {COND_3}\")\n",
    "print(f\" B: {B}\")\n",
    "print(f\" COND_X: {COND_X}\")\n",
    "print(f\" COND_Y: {COND_Y}\")"
   ]
  },
  {
   "cell_type": "code",
   "execution_count": 10,
   "metadata": {},
   "outputs": [],
   "source": [
    "# Your expert System will be developed here\n",
    "    \n",
    "def myExpertSystem(condition1, condition2):\n",
    "    \n",
    "    if condition1 < 3:\n",
    "     \n",
    "        if condition2 == 'cat':\n",
    "            return 'Outcome for GPA < 3 and Cat'  \n",
    "        elif condition2 == 'dog':\n",
    "            return 'Outcome for GPA < 3 and Dog'  \n",
    "        else:\n",
    "            return 'Invalid pet preference'\n",
    "    \n",
    "    elif 3 <= condition1 <= 4:\n",
    "        \n",
    "        if condition2 == 'cat':\n",
    "            return 'Outcome for 3 <= GPA <= 4 and Cat'  \n",
    "        elif condition2 == 'dog':\n",
    "            return 'Outcome for 3 <= GPA <= 4 and Dog'  \n",
    "        else:\n",
    "            return 'Invalid pet preference'\n",
    "    \n",
    "    elif condition1 > 4:\n",
    "       \n",
    "        if condition2 == 'cat':\n",
    "            return 'Outcome for GPA > 4 and Cat'  \n",
    "        elif condition2 == 'dog':\n",
    "            return 'Outcome for GPA > 4 and Dog'  \n",
    "        else:\n",
    "            return 'Invalid pet preference'\n",
    "    \n",
    "    else:\n",
    "        return 'Invalid GPA'\n",
    "    "
   ]
  },
  {
   "cell_type": "code",
   "execution_count": 11,
   "metadata": {},
   "outputs": [
    {
     "name": "stdout",
     "output_type": "stream",
     "text": [
      " condition1: 3.5, condition2: cat\n",
      "Outcome for 3 <= GPA <= 4 and Cat\n"
     ]
    }
   ],
   "source": [
    "#test harness\n",
    "cond_a = TEST_HARNESS_COND_1_LIST[magic_nr]\n",
    "cond_b = TEST_HARNESS_COND_2_LIST[magic_nr]\n",
    "print(f\" condition1: {cond_a}, condition2: {cond_b}\")\n",
    "print(myExpertSystem(cond_a, cond_b))  #output should be 'YES' or 'NO'"
   ]
  }
 ],
 "metadata": {
  "kernelspec": {
   "display_name": "Python 3",
   "language": "python",
   "name": "python3"
  },
  "language_info": {
   "codemirror_mode": {
    "name": "ipython",
    "version": 3
   },
   "file_extension": ".py",
   "mimetype": "text/x-python",
   "name": "python",
   "nbconvert_exporter": "python",
   "pygments_lexer": "ipython3",
   "version": "3.11.9"
  }
 },
 "nbformat": 4,
 "nbformat_minor": 2
}
